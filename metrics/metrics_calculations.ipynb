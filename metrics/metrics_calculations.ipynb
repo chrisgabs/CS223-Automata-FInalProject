{
 "cells": [
  {
   "cell_type": "code",
   "execution_count": 51,
   "metadata": {},
   "outputs": [],
   "source": [
    "from FSM import fsm_ordinances, fsm_resolutions, fsm_title, fsm_candidates, fsm_dates1, fsm_dates2, fsm_proclamations"
   ]
  },
  {
   "cell_type": "code",
   "execution_count": 31,
   "metadata": {},
   "outputs": [],
   "source": [
    "import csv\n",
    "\n",
    "def read_csv_file(file_path, delimiter=','):\n",
    "    data = []\n",
    "    with open(file_path, newline='') as csvfile:\n",
    "        csv_reader = csv.reader(csvfile, delimiter=delimiter)\n",
    "        for row in csv_reader:\n",
    "            data.append(tuple(row))\n",
    "    return data"
   ]
  },
  {
   "cell_type": "code",
   "execution_count": 32,
   "metadata": {},
   "outputs": [
    {
     "name": "stdout",
     "output_type": "stream",
     "text": [
      "0.8333333333333334\n"
     ]
    }
   ],
   "source": [
    "titles = read_csv_file(\"title.csv\", \",\")\n",
    "correct_titles = 0\n",
    "for x in titles:\n",
    "    if fsm_title.run(x[0], fsm_candidates) == x[1]:\n",
    "        correct_titles += 1\n",
    "\n",
    "print(correct_titles/len(titles))"
   ]
  },
  {
   "cell_type": "code",
   "execution_count": 57,
   "metadata": {},
   "outputs": [
    {
     "name": "stdout",
     "output_type": "stream",
     "text": [
      "1.0\n"
     ]
    }
   ],
   "source": [
    "resolutions = read_csv_file(\"resolution.csv\", \"%\")\n",
    "correct = 0\n",
    "for x in resolutions:\n",
    "    if len(fsm_resolutions.run(x[0])) == 1 and x[1] == \"TRUE\" or \\\n",
    "        len(fsm_resolutions.run(x[0])) == 0 and x[1] == \"FALSE\":\n",
    "        # if x[1] == \"FALSE\":\n",
    "        #     print(fsm_resolutions.run(x[0]), x)\n",
    "        correct += 1\n",
    "\n",
    "print(correct/len(resolutions))"
   ]
  },
  {
   "cell_type": "code",
   "execution_count": 61,
   "metadata": {},
   "outputs": [
    {
     "name": "stdout",
     "output_type": "stream",
     "text": [
      "0.8730650154798761\n"
     ]
    }
   ],
   "source": [
    "dates = read_csv_file(\"dates.csv\", \"%\")\n",
    "correct = 0\n",
    "for x in dates:\n",
    "    answer = len(fsm_dates1.run(x[0])) == 1 or fsm_dates2.run(x[0])\n",
    "    if answer and x[1] == \"TRUE\" or \\\n",
    "        not answer and x[1] == \"FALSE\":\n",
    "        # if x[1] == \"FALSE\":\n",
    "        #     print(fsm_resolutions.run(x[0]), x)\n",
    "        correct += 1\n",
    "    # else:\n",
    "    #     # print(fsm_resolutions.run(x[0]), x)\n",
    "    #     # print(answer, x)\n",
    "\n",
    "print(correct/len(dates))"
   ]
  },
  {
   "cell_type": "code",
   "execution_count": 60,
   "metadata": {},
   "outputs": [
    {
     "name": "stdout",
     "output_type": "stream",
     "text": [
      "1.0\n"
     ]
    }
   ],
   "source": [
    "proclamations = read_csv_file(\"proclamations.csv\", \"%\")\n",
    "correct = 0\n",
    "for x in proclamations:\n",
    "    answer = len(fsm_proclamations.run(x[0])) == 1\n",
    "    if answer and x[1] == \"TRUE\" or \\\n",
    "        not answer and x[1] == \"FALSE\":\n",
    "        # print(x, answer)\n",
    "        # if x[1] == \"FALSE\":\n",
    "        #     print(fsm_resolutions.run(x[0]), x)\n",
    "        correct += 1\n",
    "    # else:\n",
    "    #     # print(fsm_resolutions.run(x[0]), x)\n",
    "    #     # print(answer, x)\n",
    "        \n",
    "\n",
    "print(correct/len(proclamations))"
   ]
  },
  {
   "cell_type": "code",
   "execution_count": 63,
   "metadata": {},
   "outputs": [
    {
     "name": "stdout",
     "output_type": "stream",
     "text": [
      "1.0\n"
     ]
    }
   ],
   "source": [
    "ordinances = read_csv_file(\"ordinances.csv\", \"%\")\n",
    "correct = 0\n",
    "for x in ordinances:\n",
    "    if len(fsm_ordinances.run(x[0])) == 1 and x[1] == \"TRUE\" or \\\n",
    "        len(fsm_ordinances.run(x[0])) == 0 and x[1] == \"FALSE\":\n",
    "        correct += 1\n",
    "\n",
    "print(correct/len(ordinances))"
   ]
  }
 ],
 "metadata": {
  "kernelspec": {
   "display_name": "mining",
   "language": "python",
   "name": "python3"
  },
  "language_info": {
   "codemirror_mode": {
    "name": "ipython",
    "version": 3
   },
   "file_extension": ".py",
   "mimetype": "text/x-python",
   "name": "python",
   "nbconvert_exporter": "python",
   "pygments_lexer": "ipython3",
   "version": "3.10.8"
  },
  "orig_nbformat": 4
 },
 "nbformat": 4,
 "nbformat_minor": 2
}
